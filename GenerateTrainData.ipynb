{
 "cells": [
  {
   "cell_type": "code",
   "execution_count": 1,
   "metadata": {},
   "outputs": [],
   "source": [
    "import mitsuba as mi\n",
    "import drjit as dr\n",
    "import matplotlib.pyplot as plt\n",
    "import numpy as np\n",
    "import os\n",
    "import random\n",
    "mi.set_variant(\"cuda_ad_rgb\")"
   ]
  },
  {
   "cell_type": "markdown",
   "metadata": {},
   "source": [
    "## 获取训练数据\n",
    "每个场景选取2000个相机，每个相机生成一对数据，原论文共包含92个复杂场景\n",
    "训练数据是成对的，且场景仅包含漫反射  \n",
    "每一对数据包括两个相邻帧，相邻帧通过稍微改变相机位置或者相机朝向生成。\n",
    "每一帧包含：\n",
    "> 1.直接光照图(512X384,2048-4096spps)  \n",
    "> 2.G-buffers(法线，相机空间3D坐标，albedos)  \n",
    "> 3.实际的一次弹跳光线间接光图"
   ]
  },
  {
   "cell_type": "code",
   "execution_count": 2,
   "metadata": {},
   "outputs": [],
   "source": [
    "# scene = mi.load_dict(mi.cornell_box())\n",
    "scene = mi.load_file(\"./complex_scenes/living-room/living-room/scene_v3.xml\")\n",
    "aov_integrator = mi.load_dict({\n",
    "    'type':'aov',\n",
    "    'aovs':'position:position,normal:sh_normal,depth:depth,albedo:albedo',\n",
    "    'my_image':{\n",
    "        'type':'path',\n",
    "        'max_depth':2\n",
    "    }\n",
    "})"
   ]
  },
  {
   "cell_type": "code",
   "execution_count": 3,
   "metadata": {},
   "outputs": [],
   "source": [
    "def load_camera(camera_transform,spp=4096,width=512,height=384):\n",
    "    cameras = []\n",
    "    camera_transform_matrix = camera_transform.matrix.numpy()\n",
    "    for matrix in camera_transform_matrix:\n",
    "        cameras.append(mi.load_dict({\n",
    "            'type':'perspective',\n",
    "            'fov':39.3077,\n",
    "            'to_world':mi.ScalarTransform4f(matrix),\n",
    "            'sampler':{\n",
    "                'type':'independent',\n",
    "                'sample_count':spp,\n",
    "            },\n",
    "            'film': {\n",
    "                'type': 'hdrfilm',\n",
    "                'width': width,\n",
    "                'height': height,\n",
    "                'rfilter': {\n",
    "                    'type': 'tent',\n",
    "                },\n",
    "                'pixel_format': 'rgb',\n",
    "            },\n",
    "        },True))\n",
    "    return cameras\n",
    "\n",
    "def create_cameras(scene,camera_sampler,num_cameras = 2000,seed = 10):\n",
    "    camera_sampler = camera_sampler.clone()\n",
    "    camera_sampler.seed(seed,num_cameras)\n",
    "\n",
    "    # 在场景中随机采样相机位置\n",
    "    camera_position = scene.bbox().min + scene.bbox().extents()*0.5 + 0.5*mi.warp.square_to_uniform_sphere(camera_sampler.next_2d())\n",
    "    # 随机采样 视方向\n",
    "    view_direction =  mi.Point3f(scene.bbox().min + (scene.bbox().max-scene.bbox().min)*mi.Point3f(camera_sampler.next_1d(),camera_sampler.next_1d(),camera_sampler.next_1d()))\n",
    "    # 确定向上方向\n",
    "    up = mi.warp.square_to_uniform_hemisphere(camera_sampler.next_2d())\n",
    "    camera_transform = mi.Transform4f.look_at(camera_position,view_direction,up)\n",
    "    cameras = load_camera(camera_transform)\n",
    "    # 添加随机扰动\n",
    "    if random.uniform(0,1)<0.5:\n",
    "        camera_position += 0.4*mi.warp.square_to_uniform_sphere(camera_sampler.next_2d())\n",
    "    else:\n",
    "        view_direction += 0.4*mi.warp.square_to_uniform_sphere(camera_sampler.next_2d())\n",
    "    camera_transform_changed = mi.Transform4f.look_at(camera_position,view_direction,up)\n",
    "    cameras_changed = load_camera(camera_transform_changed)\n",
    "    return cameras,cameras_changed\n",
    "    "
   ]
  },
  {
   "cell_type": "code",
   "execution_count": 4,
   "metadata": {},
   "outputs": [],
   "source": [
    "camera_sampler = mi.load_dict({\n",
    "    'type':'independent',\n",
    "    'sample_count':1\n",
    "})\n",
    "groundTruth_integrator = mi.load_dict({\n",
    "    'type':'path',\n",
    "    'max_depth':3\n",
    "})\n",
    "camera_count = 500\n",
    "spp = 4096\n",
    "output_dir = \"./data/dataSet\"\n",
    "cameras,cameras_changed = create_cameras(scene,camera_sampler,camera_count,seed=12)"
   ]
  },
  {
   "cell_type": "code",
   "execution_count": 5,
   "metadata": {},
   "outputs": [
    {
     "name": "stderr",
     "output_type": "stream",
     "text": [
      "100%|██████████| 500/500 [2:31:32<00:00, 18.19s/it]  \n"
     ]
    }
   ],
   "source": [
    "import gc\n",
    "import torch\n",
    "import os\n",
    "from tqdm import tqdm \n",
    "\n",
    "images = []\n",
    "for i in tqdm(range(camera_count)):\n",
    "    image = np.array(mi.render(scene,sensor=cameras[i],integrator=aov_integrator,spp=spp))\n",
    "    image_groundtruth = np.array(mi.render(scene,sensor=cameras[i],integrator= groundTruth_integrator,spp=spp))\n",
    "    image_groundtruth = np.clip(image_groundtruth - image[:,:,:3],0,1)\n",
    "\n",
    "    np.save(os.path.join(output_dir,f\"{i+1038}.npy\"),image)\n",
    "    np.save(os.path.join(output_dir,f\"{i+1038}_truth.npy\"),image_groundtruth)\n",
    "\n",
    "    del image\n",
    "    del image_groundtruth\n",
    "    torch.cuda.empty_cache()\n",
    "    gc.collect()\n"
   ]
  }
 ],
 "metadata": {
  "kernelspec": {
   "display_name": "mitsuba",
   "language": "python",
   "name": "python3"
  },
  "language_info": {
   "codemirror_mode": {
    "name": "ipython",
    "version": 3
   },
   "file_extension": ".py",
   "mimetype": "text/x-python",
   "name": "python",
   "nbconvert_exporter": "python",
   "pygments_lexer": "ipython3",
   "version": "3.9.19"
  }
 },
 "nbformat": 4,
 "nbformat_minor": 2
}
